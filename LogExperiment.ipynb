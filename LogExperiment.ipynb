{
 "cells": [
  {
   "cell_type": "code",
   "execution_count": 22,
   "metadata": {},
   "outputs": [
    {
     "name": "stdout",
     "output_type": "stream",
     "text": [
      "89\n",
      "[ 1  1  1  1  2  2  3  3  4  5  6  8 10 12 14 18]\n",
      "91\n"
     ]
    }
   ],
   "source": [
    "import numpy as np\n",
    "lines = 129-40\n",
    "\n",
    "print(lines)\n",
    "\n",
    "# I need 16 values which add up to 89. They all must be integers. They must increase\n",
    "array = np.geomspace(1,18,16).astype(int)\n",
    "print(array)\n",
    "print(sum(array))"
   ]
  }
 ],
 "metadata": {
  "kernelspec": {
   "display_name": "Python 3",
   "language": "python",
   "name": "python3"
  },
  "language_info": {
   "codemirror_mode": {
    "name": "ipython",
    "version": 3
   },
   "file_extension": ".py",
   "mimetype": "text/x-python",
   "name": "python",
   "nbconvert_exporter": "python",
   "pygments_lexer": "ipython3",
   "version": "3.10.10"
  },
  "orig_nbformat": 4,
  "vscode": {
   "interpreter": {
    "hash": "b0fa6594d8f4cbf19f97940f81e996739fb7646882a419484c72d19e05852a7e"
   }
  }
 },
 "nbformat": 4,
 "nbformat_minor": 2
}
